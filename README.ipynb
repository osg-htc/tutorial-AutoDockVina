{
 "cells": [
  {
   "cell_type": "markdown",
   "id": "72cfb2ff-9f0b-47a1-a4d3-eac9f273e18a",
   "metadata": {},
   "source": [
    "# Running a Molecule Docking Job with AutoDock Vina\n",
    "\n",
    "[AutoDock Vina](http://vina.scripps.edu/) is a molecular docking program useful for computer aided drug design.  In this tutorial, we will learn how to run AutoDock Vina on the OSPool.  "
   ]
  },
  {
   "cell_type": "markdown",
   "id": "5490a5e6-f5f8-476b-9333-cc874192cb3c",
   "metadata": {},
   "source": [
    "## Tutorial Files \n",
    "\n",
    "First, run the `ls` command to see our files"
   ]
  },
  {
   "cell_type": "code",
   "execution_count": null,
   "id": "6c60fd7c-2a4d-4736-a945-b1340c426996",
   "metadata": {},
   "outputs": [],
   "source": [
    "ls"
   ]
  },
  {
   "cell_type": "markdown",
   "id": "5c78d12a-1f8a-42cc-9b95-e1b99ad6dc47",
   "metadata": {},
   "source": [
    "Then run it on the data directory: "
   ]
  },
  {
   "cell_type": "code",
   "execution_count": null,
   "id": "570742c0-8751-4b97-a72e-3e3bbb3ffdbc",
   "metadata": {},
   "outputs": [],
   "source": [
    "ls data/"
   ]
  },
  {
   "cell_type": "markdown",
   "id": "3fd8d5ff-f488-4578-a096-4468b8bba519",
   "metadata": {},
   "source": [
    "Here are what the different files and directories are for: \n",
    "\n",
    "```\n",
    "data/\n",
    "  receptor_config.txt  # Configuration file (input)\n",
    "  receptor.pdbqt       # Receptor coordinates and atomic charges (input)\n",
    "  ligand.pdbqt         # Ligand coordinates and atomic charges (input)\n",
    "logs/                  # Empty folder for job log files\n",
    "vina_job.submit        # Job submission file\n",
    "vina_run.sh            # Execution script\n",
    "```\n",
    "\n",
    "We need to download the AutoDock program separately into the this directory as well. Go \n",
    "to the [AutoDock Vina website](http://vina.scripps.edu/) and click on the Download link at the top of the page. This will then lead you to the [GitHub Downloads page](https://github.com/ccsb-scripps/AutoDock-Vina/releases). \n",
    "Download the Linux x86_64 version of the program; you can do this directly to the current directory by using the `wget` command and the download link. If you use the \n",
    "`-O` option shown below, it will rename the program to match what is used in the rest of the guide. \n"
   ]
  },
  {
   "cell_type": "code",
   "execution_count": null,
   "id": "3ac4682b-167e-4f80-9854-969ec1304e98",
   "metadata": {},
   "outputs": [],
   "source": [
    "wget https://github.com/ccsb-scripps/AutoDock-Vina/releases/download/v1.2.5/vina_1.2.5_linux_x86_64 -O vina"
   ]
  },
  {
   "cell_type": "markdown",
   "id": "e23fee25-afb7-4a74-b46f-318b5a5392c7",
   "metadata": {},
   "source": [
    "Once downloaded, we also need to give the program executable permissions. We can test that \n",
    "it worked by running vina with the help flag: "
   ]
  },
  {
   "cell_type": "code",
   "execution_count": null,
   "id": "86580ed5-3809-4047-b3a1-d841c2e77ee5",
   "metadata": {},
   "outputs": [],
   "source": [
    "chmod +x vina"
   ]
  },
  {
   "cell_type": "code",
   "execution_count": null,
   "id": "508c224e-3243-45bb-bfb7-34c417228b34",
   "metadata": {},
   "outputs": [],
   "source": [
    "./vina --help"
   ]
  },
  {
   "cell_type": "markdown",
   "id": "ef2f2eee-9e24-4195-afee-eafcdfbf52ad",
   "metadata": {},
   "source": [
    "## Files Need to Submit the Job\n",
    "\n",
    "The file `vina_job.submit` is the job submission file and contains the description of the job in HTCondor language. Specifically, it includes an \"executable\" (the script HTCondor will use in the job to run vina), a list of the files needed to run the job (shown in \"transfer_input_files\"), and indications of where to write logging information and what resources and requirements the job needs. "
   ]
  },
  {
   "cell_type": "code",
   "execution_count": null,
   "id": "f903c638-a835-4332-8c12-24697fd8749c",
   "metadata": {},
   "outputs": [],
   "source": [
    "cat vina_job.submit"
   ]
  },
  {
   "cell_type": "markdown",
   "id": "614ebc16-d3de-424d-a332-0fec8b0bb453",
   "metadata": {},
   "source": [
    "Next we see the execution script `vina_run.sh`. The execution script and its commands are executed on a worker node out in the Open Science Pool. "
   ]
  },
  {
   "cell_type": "code",
   "execution_count": null,
   "id": "0cf11eff-d05d-403f-bf82-ee4656ef1294",
   "metadata": {},
   "outputs": [],
   "source": [
    "cat vina_run.sh"
   ]
  },
  {
   "cell_type": "markdown",
   "id": "169b8946-c67a-41bc-8f8b-3cf6f1566499",
   "metadata": {},
   "source": [
    "## Submit the Docking Job\n",
    "\t\t\n",
    "We submit the job using `condor_submit` command as follows"
   ]
  },
  {
   "cell_type": "code",
   "execution_count": null,
   "id": "83d9f7b6-a397-4163-8644-8841834d73ee",
   "metadata": {},
   "outputs": [],
   "source": [
    "condor_submit vina_job.submit"
   ]
  },
  {
   "cell_type": "markdown",
   "id": "5407b5e1-c1da-489b-8f5f-c0d06da2954e",
   "metadata": {},
   "source": [
    "Now you have submitted the AutoDock Vina job on the OSPool.  The present job should be finished quickly (less than 10 mins). You can check the status of the submitted job by using  the`condor_q` command as follows:\n"
   ]
  },
  {
   "cell_type": "code",
   "execution_count": null,
   "id": "a7ad8d9a-5873-4ceb-9108-ef205e78c2c0",
   "metadata": {},
   "outputs": [],
   "source": [
    "condor_q"
   ]
  },
  {
   "cell_type": "markdown",
   "id": "169da6b9-c94c-4b97-aaef-8be4ba1441fd",
   "metadata": {},
   "source": [
    "After job completion, you will see the output file `receptor-ligand.pdbqt`. "
   ]
  },
  {
   "cell_type": "code",
   "execution_count": null,
   "id": "4646ac44-0777-47e1-ab35-d82e84b5c22a",
   "metadata": {},
   "outputs": [],
   "source": [
    "ls"
   ]
  },
  {
   "cell_type": "markdown",
   "id": "39c92f89-72cc-4ea7-b38d-d93fae58c7f7",
   "metadata": {},
   "source": [
    "## Next Steps\n",
    "\n",
    "After running this example, you may want to scale up to testing multiple molecules or ligands. \n",
    "\n",
    "### What to Consider\n",
    "\n",
    "- Decide how many docking runs you want to try per job. If one molecule can be tested in a few seconds, you can probably run a few hundred in a job that runs in about an hour. \n",
    "- How should you divide up the input data in this case? Do you need individual input files for each molecule, or can you use one to share? Should the molecule files all get copied to every job or just the jobs where they're needed? You can separate groups of files by putting them in separate directories or tar.gz files to help with this. \n",
    "- Look at [this guide](https://portal.osg-htc.org/documentation/htc_workloads/submitting_workloads/submit-multiple-jobs/) to see different ways that you can use HTCondor to submit multiple jobs at once. \n",
    "\n",
    "If you want to use a different (or additional) docking programs, you can include them in the same job by downloading and including those software files in your job submission. \n",
    "\n",
    "### Example of Multiple Runs\n",
    "\n",
    "Included in this directory is *one* approach to analyzing multiple ligands, by \n",
    "submitting multiple jobs. For the given files we are assuming that there are multiple \n",
    "directories with input files we want to run (`run01`, `run02`, `run03`, etc.) and each \n",
    "job will process all of the ligands in one of these \"run\" folders. \n",
    "\n",
    "In the script, `vina_multi.sh`, we had added a for loop in order to process all \n",
    "the ligands that were included with the job. We will also place those results into \n",
    "a single folder to make it easier to organize them back on the access point: \n",
    "\n",
    "\t#!/bin/bash\n",
    "\t\n",
    "\t# Make a directory for results\n",
    "\tmkdir results\n",
    "\t\n",
    "\t# Run vina on multiple ligands\n",
    "\tfor LIGAND in *ligand.pdbqt\n",
    "\tdo \n",
    "\t./vina --config receptor_config.txt \\\n",
    "\t\t --ligand ${LIGAND} --out results/receptor-${LIGAND}\n",
    "\tdone\n",
    "\n",
    "Note that this for loop assumes that all of the ligands have a naming scheme that we can \n",
    "match using a wildcard (the `*` symbol). \n",
    "\n",
    "In the submit file, we have added a line called `transfer_output_files` to transfer \n",
    "back the results folder from each job. We have also replaced the single input directory `data` with \n",
    "a variable `inputdir`, representing one of the `run` directories.  The value \n",
    "of that variable is set via the queue statement \n",
    "at the end of the submit file: \n",
    "\n",
    "\texecutable = vina_multi.sh\n",
    "\t\n",
    "\ttransfer_input_files    = $(inputdir)/, vina\n",
    "\ttransfer_output_files   = results\n",
    "\t\n",
    "\t# ... other job options\n",
    "\t\n",
    "\tqueue inputdir matching run*\n"
   ]
  },
  {
   "cell_type": "markdown",
   "id": "97cae2cd-a3d3-46b8-9f29-c0ec56eecff3",
   "metadata": {},
   "source": [
    "## Let's try it\n",
    "\n",
    "Let's just copy our existing data to set up the scenario described above: "
   ]
  },
  {
   "cell_type": "code",
   "execution_count": null,
   "id": "290e191b-3b87-4cf3-bdf5-62be7f635602",
   "metadata": {},
   "outputs": [],
   "source": [
    "for run in 1 2\n",
    "do \n",
    "  # set up run directory with receptor\n",
    "  mkdir run${run}\n",
    "  cp data/receptor_config.txt run${run}\n",
    "  cp data/receptor.pdbqt run${run}\n",
    "  # add ligands to run dir\n",
    "  for ligand in 1 2 3\n",
    "  do\n",
    "    cp data/ligand.pdbqt run${run}/${run}${ligand}-ligand.pdbqt\n",
    "  done\n",
    "done"
   ]
  },
  {
   "cell_type": "markdown",
   "id": "8fa12ab0-d847-4c84-a137-fbd189b16f71",
   "metadata": {},
   "source": [
    "Then we can use our `vina_multijob.submit` file to submit two jobs, one for each run folder: "
   ]
  },
  {
   "cell_type": "code",
   "execution_count": null,
   "id": "ac13eb41-b5e0-4512-b39a-8f0bfb8e6d9e",
   "metadata": {},
   "outputs": [],
   "source": [
    "condor_submit vina_multijob.submit"
   ]
  },
  {
   "cell_type": "markdown",
   "id": "ca1dd2b8-be64-4005-b93f-256f5d9c2451",
   "metadata": {},
   "source": [
    "Once finished, we should see multiple results in the `results` folder: "
   ]
  },
  {
   "cell_type": "code",
   "execution_count": null,
   "id": "8b6de25b-73c7-4dd2-8a17-c02302c60142",
   "metadata": {},
   "outputs": [],
   "source": [
    "ls results"
   ]
  },
  {
   "cell_type": "code",
   "execution_count": null,
   "id": "58961fbc-013e-42b5-a0a0-d495f51a9526",
   "metadata": {},
   "outputs": [],
   "source": []
  }
 ],
 "metadata": {
  "kernelspec": {
   "display_name": "Bash",
   "language": "bash",
   "name": "bash"
  },
  "language_info": {
   "codemirror_mode": "shell",
   "file_extension": ".sh",
   "mimetype": "text/x-sh",
   "name": "bash"
  }
 },
 "nbformat": 4,
 "nbformat_minor": 5
}
